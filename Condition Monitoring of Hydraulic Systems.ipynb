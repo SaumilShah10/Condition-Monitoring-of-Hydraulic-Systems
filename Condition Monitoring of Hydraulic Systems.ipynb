{
 "cells": [
  {
   "cell_type": "code",
   "execution_count": 15,
   "metadata": {},
   "outputs": [],
   "source": [
    "import pandas as pd\n",
    "import numpy as np\n",
    "import matplotlib.pyplot as plt\n",
    "from scipy import stats\n",
    "from sklearn.preprocessing import StandardScaler\n",
    "from sklearn.decomposition import PCA\n",
    "from sklearn import model_selection\n",
    "from sklearn.model_selection import KFold\n",
    "from sklearn.metrics import classification_report, confusion_matrix, accuracy_score\n",
    "from sklearn.neighbors import KNeighborsClassifier\n",
    "from sklearn.discriminant_analysis import LinearDiscriminantAnalysis\n",
    "from sklearn.svm import SVC"
   ]
  },
  {
   "cell_type": "code",
   "execution_count": 2,
   "metadata": {},
   "outputs": [],
   "source": [
    "# Reading all the text files in csv\n",
    "PS1 = pd.read_csv(\"C:\\\\Users\\\\saumi\\\\Desktop\\\\Saumil Shah\\\\Jobs\\\\AB InBev\\\\data\\\\Text Files\\\\PS1.txt\",delimiter=\"\\t\", header=None)\n",
    "PS2 = pd.read_csv(\"C:\\\\Users\\\\saumi\\\\Desktop\\\\Saumil Shah\\\\Jobs\\\\AB InBev\\\\data\\\\Text Files\\\\PS2.txt\",delimiter=\"\\t\", header=None)\n",
    "PS3 = pd.read_csv(\"C:\\\\Users\\\\saumi\\\\Desktop\\\\Saumil Shah\\\\Jobs\\\\AB InBev\\\\data\\\\Text Files\\\\PS3.txt\",delimiter=\"\\t\", header=None)\n",
    "PS4 = pd.read_csv(\"C:\\\\Users\\\\saumi\\\\Desktop\\\\Saumil Shah\\\\Jobs\\\\AB InBev\\\\data\\\\Text Files\\\\PS4.txt\",delimiter=\"\\t\", header=None)\n",
    "PS5 = pd.read_csv(\"C:\\\\Users\\\\saumi\\\\Desktop\\\\Saumil Shah\\\\Jobs\\\\AB InBev\\\\data\\\\Text Files\\\\PS5.txt\",delimiter=\"\\t\", header=None)\n",
    "PS6 = pd.read_csv(\"C:\\\\Users\\\\saumi\\\\Desktop\\\\Saumil Shah\\\\Jobs\\\\AB InBev\\\\data\\\\Text Files\\\\PS6.txt\",delimiter=\"\\t\", header=None)\n",
    "EPS1 = pd.read_csv(\"C:\\\\Users\\\\saumi\\\\Desktop\\\\Saumil Shah\\\\Jobs\\\\AB InBev\\\\data\\\\Text Files\\\\EPS1.txt\",delimiter=\"\\t\", header=None)\n",
    "FS1 = pd.read_csv(\"C:\\\\Users\\\\saumi\\\\Desktop\\\\Saumil Shah\\\\Jobs\\\\AB InBev\\\\data\\\\Text Files\\\\FS1.txt\",delimiter=\"\\t\", header=None)\n",
    "FS2 = pd.read_csv(\"C:\\\\Users\\\\saumi\\\\Desktop\\\\Saumil Shah\\\\Jobs\\\\AB InBev\\\\data\\\\Text Files\\\\FS2.txt\",delimiter=\"\\t\", header=None)\n",
    "TS1 = pd.read_csv(\"C:\\\\Users\\\\saumi\\\\Desktop\\\\Saumil Shah\\\\Jobs\\\\AB InBev\\\\data\\\\Text Files\\\\TS1.txt\",delimiter=\"\\t\", header=None)\n",
    "TS2 = pd.read_csv(\"C:\\\\Users\\\\saumi\\\\Desktop\\\\Saumil Shah\\\\Jobs\\\\AB InBev\\\\data\\\\Text Files\\\\TS2.txt\",delimiter=\"\\t\", header=None)\n",
    "TS3 = pd.read_csv(\"C:\\\\Users\\\\saumi\\\\Desktop\\\\Saumil Shah\\\\Jobs\\\\AB InBev\\\\data\\\\Text Files\\\\TS3.txt\",delimiter=\"\\t\", header=None)\n",
    "TS4 = pd.read_csv(\"C:\\\\Users\\\\saumi\\\\Desktop\\\\Saumil Shah\\\\Jobs\\\\AB InBev\\\\data\\\\Text Files\\\\TS4.txt\",delimiter=\"\\t\", header=None)\n",
    "VS1 = pd.read_csv(\"C:\\\\Users\\\\saumi\\\\Desktop\\\\Saumil Shah\\\\Jobs\\\\AB InBev\\\\data\\\\Text Files\\\\VS1.txt\",delimiter=\"\\t\", header=None)\n",
    "CE = pd.read_csv(\"C:\\\\Users\\\\saumi\\\\Desktop\\\\Saumil Shah\\\\Jobs\\\\AB InBev\\\\data\\\\Text Files\\\\CE.txt\",delimiter=\"\\t\", header=None)\n",
    "CP = pd.read_csv(\"C:\\\\Users\\\\saumi\\\\Desktop\\\\Saumil Shah\\\\Jobs\\\\AB InBev\\\\data\\\\Text Files\\\\CP.txt\",delimiter=\"\\t\", header=None)\n",
    "SE = pd.read_csv(\"C:\\\\Users\\\\saumi\\\\Desktop\\\\Saumil Shah\\\\Jobs\\\\AB InBev\\\\data\\\\Text Files\\\\SE.txt\",delimiter=\"\\t\", header=None)\n",
    "Target = pd.read_csv(\"C:\\\\Users\\\\saumi\\\\Desktop\\\\Saumil Shah\\\\Jobs\\\\AB InBev\\\\data\\\\Text Files\\\\profile.txt\",delimiter=\"\\t\", header=None)\n",
    "Target.columns = ['Cooler_Condition', 'Valve_Condition', 'Internal_Pump_Leakage', 'Hydraulic_accumulator', 'Stable_Flag']"
   ]
  },
  {
   "cell_type": "code",
   "execution_count": 3,
   "metadata": {},
   "outputs": [],
   "source": [
    "# Selecting the Target Cooler Condition and dropping all the others\n",
    "Target = Target.drop(['Valve_Condition', 'Internal_Pump_Leakage', 'Hydraulic_accumulator', 'Stable_Flag'], axis=1)"
   ]
  },
  {
   "cell_type": "code",
   "execution_count": 4,
   "metadata": {},
   "outputs": [],
   "source": [
    "# Putting all the sensor data based on equal sampling rates into different lists\n",
    "sensor_sampling_100 = [PS1, PS2, PS3, PS4, PS5, PS6, EPS1]\n",
    "sensor_sampling_10 = [FS1, FS2]\n",
    "sensor_sampling_1 = [TS1, TS2, TS3, TS4, VS1, CE, CP, SE]"
   ]
  },
  {
   "cell_type": "code",
   "execution_count": 5,
   "metadata": {},
   "outputs": [],
   "source": [
    "# Aggregating data for all the sensors (with all sampling rates) for every 10 seconds to reduce the dimensionality of the data\n",
    "new_sensor_sampling_100 = []\n",
    "for df in sensor_sampling_100:\n",
    "    newdf = df.groupby(np.arange(len(df.columns))//1000, axis=1).mean()\n",
    "    new_sensor_sampling_100.append(newdf)\n",
    "new_sensor_sampling_100 = pd.concat(new_sensor_sampling_100, axis=1)\n",
    "\n",
    "new_sensor_sampling_10 = []\n",
    "for df in sensor_sampling_10:\n",
    "    newdf = df.groupby(np.arange(len(df.columns))//100, axis=1).mean()\n",
    "    new_sensor_sampling_10.append(newdf)\n",
    "new_sensor_sampling_10 = pd.concat(new_sensor_sampling_10, axis=1)\n",
    "\n",
    "new_sensor_sampling_1 = []\n",
    "for df in sensor_sampling_1:\n",
    "    newdf = df.groupby(np.arange(len(df.columns))//10, axis=1).mean()\n",
    "    new_sensor_sampling_1.append(newdf)\n",
    "new_sensor_sampling_1 = pd.concat(new_sensor_sampling_1, axis=1)"
   ]
  },
  {
   "cell_type": "code",
   "execution_count": 6,
   "metadata": {},
   "outputs": [
    {
     "data": {
      "text/html": [
       "<div>\n",
       "<style scoped>\n",
       "    .dataframe tbody tr th:only-of-type {\n",
       "        vertical-align: middle;\n",
       "    }\n",
       "\n",
       "    .dataframe tbody tr th {\n",
       "        vertical-align: top;\n",
       "    }\n",
       "\n",
       "    .dataframe thead th {\n",
       "        text-align: right;\n",
       "    }\n",
       "</style>\n",
       "<table border=\"1\" class=\"dataframe\">\n",
       "  <thead>\n",
       "    <tr style=\"text-align: right;\">\n",
       "      <th></th>\n",
       "      <th>0</th>\n",
       "      <th>1</th>\n",
       "      <th>2</th>\n",
       "      <th>3</th>\n",
       "      <th>4</th>\n",
       "      <th>5</th>\n",
       "      <th>0</th>\n",
       "      <th>1</th>\n",
       "      <th>2</th>\n",
       "      <th>3</th>\n",
       "      <th>...</th>\n",
       "      <th>3</th>\n",
       "      <th>4</th>\n",
       "      <th>5</th>\n",
       "      <th>0</th>\n",
       "      <th>1</th>\n",
       "      <th>2</th>\n",
       "      <th>3</th>\n",
       "      <th>4</th>\n",
       "      <th>5</th>\n",
       "      <th>Cooler_Condition</th>\n",
       "    </tr>\n",
       "  </thead>\n",
       "  <tbody>\n",
       "    <tr>\n",
       "      <th>0</th>\n",
       "      <td>187.36271</td>\n",
       "      <td>147.02714</td>\n",
       "      <td>157.07028</td>\n",
       "      <td>165.54485</td>\n",
       "      <td>155.86852</td>\n",
       "      <td>151.16745</td>\n",
       "      <td>9.512161</td>\n",
       "      <td>121.12585</td>\n",
       "      <td>131.31226</td>\n",
       "      <td>139.64960</td>\n",
       "      <td>...</td>\n",
       "      <td>1.8158</td>\n",
       "      <td>1.5939</td>\n",
       "      <td>1.4395</td>\n",
       "      <td>13.7180</td>\n",
       "      <td>66.5412</td>\n",
       "      <td>66.0552</td>\n",
       "      <td>69.3919</td>\n",
       "      <td>70.3871</td>\n",
       "      <td>68.8497</td>\n",
       "      <td>3</td>\n",
       "    </tr>\n",
       "    <tr>\n",
       "      <th>1</th>\n",
       "      <td>187.88408</td>\n",
       "      <td>147.01517</td>\n",
       "      <td>156.86739</td>\n",
       "      <td>165.28308</td>\n",
       "      <td>155.66950</td>\n",
       "      <td>150.90070</td>\n",
       "      <td>9.566112</td>\n",
       "      <td>121.08698</td>\n",
       "      <td>131.12716</td>\n",
       "      <td>139.48404</td>\n",
       "      <td>...</td>\n",
       "      <td>1.2116</td>\n",
       "      <td>1.1903</td>\n",
       "      <td>1.1713</td>\n",
       "      <td>13.3979</td>\n",
       "      <td>66.3887</td>\n",
       "      <td>66.2618</td>\n",
       "      <td>69.8939</td>\n",
       "      <td>70.9587</td>\n",
       "      <td>69.1127</td>\n",
       "      <td>3</td>\n",
       "    </tr>\n",
       "    <tr>\n",
       "      <th>2</th>\n",
       "      <td>187.77325</td>\n",
       "      <td>146.75526</td>\n",
       "      <td>156.55951</td>\n",
       "      <td>165.08761</td>\n",
       "      <td>155.33551</td>\n",
       "      <td>150.57518</td>\n",
       "      <td>9.459178</td>\n",
       "      <td>120.90711</td>\n",
       "      <td>130.88463</td>\n",
       "      <td>139.34218</td>\n",
       "      <td>...</td>\n",
       "      <td>1.0883</td>\n",
       "      <td>1.0943</td>\n",
       "      <td>1.1043</td>\n",
       "      <td>13.5915</td>\n",
       "      <td>66.7226</td>\n",
       "      <td>66.5497</td>\n",
       "      <td>69.8913</td>\n",
       "      <td>71.1584</td>\n",
       "      <td>69.3454</td>\n",
       "      <td>3</td>\n",
       "    </tr>\n",
       "    <tr>\n",
       "      <th>3</th>\n",
       "      <td>187.67926</td>\n",
       "      <td>146.58436</td>\n",
       "      <td>156.37909</td>\n",
       "      <td>164.92689</td>\n",
       "      <td>155.16391</td>\n",
       "      <td>150.39502</td>\n",
       "      <td>9.399533</td>\n",
       "      <td>120.79783</td>\n",
       "      <td>130.77706</td>\n",
       "      <td>139.27504</td>\n",
       "      <td>...</td>\n",
       "      <td>1.0299</td>\n",
       "      <td>1.0554</td>\n",
       "      <td>1.0930</td>\n",
       "      <td>13.7619</td>\n",
       "      <td>67.3491</td>\n",
       "      <td>66.6569</td>\n",
       "      <td>70.2565</td>\n",
       "      <td>71.2072</td>\n",
       "      <td>69.5378</td>\n",
       "      <td>3</td>\n",
       "    </tr>\n",
       "    <tr>\n",
       "      <th>4</th>\n",
       "      <td>187.61161</td>\n",
       "      <td>146.41015</td>\n",
       "      <td>156.18531</td>\n",
       "      <td>164.70941</td>\n",
       "      <td>154.91724</td>\n",
       "      <td>150.16911</td>\n",
       "      <td>9.495656</td>\n",
       "      <td>120.66341</td>\n",
       "      <td>130.61134</td>\n",
       "      <td>139.08130</td>\n",
       "      <td>...</td>\n",
       "      <td>1.0629</td>\n",
       "      <td>1.0748</td>\n",
       "      <td>1.0950</td>\n",
       "      <td>12.8391</td>\n",
       "      <td>66.3922</td>\n",
       "      <td>66.6717</td>\n",
       "      <td>70.2730</td>\n",
       "      <td>71.0880</td>\n",
       "      <td>69.4676</td>\n",
       "      <td>3</td>\n",
       "    </tr>\n",
       "  </tbody>\n",
       "</table>\n",
       "<p>5 rows × 103 columns</p>\n",
       "</div>"
      ],
      "text/plain": [
       "           0          1          2          3          4          5         0  \\\n",
       "0  187.36271  147.02714  157.07028  165.54485  155.86852  151.16745  9.512161   \n",
       "1  187.88408  147.01517  156.86739  165.28308  155.66950  150.90070  9.566112   \n",
       "2  187.77325  146.75526  156.55951  165.08761  155.33551  150.57518  9.459178   \n",
       "3  187.67926  146.58436  156.37909  164.92689  155.16391  150.39502  9.399533   \n",
       "4  187.61161  146.41015  156.18531  164.70941  154.91724  150.16911  9.495656   \n",
       "\n",
       "           1          2          3        ...              3       4       5  \\\n",
       "0  121.12585  131.31226  139.64960        ...         1.8158  1.5939  1.4395   \n",
       "1  121.08698  131.12716  139.48404        ...         1.2116  1.1903  1.1713   \n",
       "2  120.90711  130.88463  139.34218        ...         1.0883  1.0943  1.1043   \n",
       "3  120.79783  130.77706  139.27504        ...         1.0299  1.0554  1.0930   \n",
       "4  120.66341  130.61134  139.08130        ...         1.0629  1.0748  1.0950   \n",
       "\n",
       "         0        1        2        3        4        5  Cooler_Condition  \n",
       "0  13.7180  66.5412  66.0552  69.3919  70.3871  68.8497                 3  \n",
       "1  13.3979  66.3887  66.2618  69.8939  70.9587  69.1127                 3  \n",
       "2  13.5915  66.7226  66.5497  69.8913  71.1584  69.3454                 3  \n",
       "3  13.7619  67.3491  66.6569  70.2565  71.2072  69.5378                 3  \n",
       "4  12.8391  66.3922  66.6717  70.2730  71.0880  69.4676                 3  \n",
       "\n",
       "[5 rows x 103 columns]"
      ]
     },
     "execution_count": 6,
     "metadata": {},
     "output_type": "execute_result"
    }
   ],
   "source": [
    "# Combining all the new sensor data (aggregated & with reduced dimensionality) together along with the Target (Cooler Condition)\n",
    "frames1 = [new_sensor_sampling_100, new_sensor_sampling_10, new_sensor_sampling_1, Target]\n",
    "new_sensordata = pd.concat(frames1, axis=1)\n",
    "new_sensordata.head()"
   ]
  },
  {
   "cell_type": "code",
   "execution_count": 7,
   "metadata": {},
   "outputs": [],
   "source": [
    "# Standardizing the new sensor data for optimal performance using the Standard Scaler Function\n",
    "X = new_sensordata.iloc[:,0:102]\n",
    "X = StandardScaler().fit_transform(X)"
   ]
  },
  {
   "cell_type": "code",
   "execution_count": 8,
   "metadata": {},
   "outputs": [
    {
     "data": {
      "text/plain": [
       "9"
      ]
     },
     "execution_count": 8,
     "metadata": {},
     "output_type": "execute_result"
    }
   ],
   "source": [
    "# Finding the minimum number of components for Principal Component Analysis to have an explained variance of 99%\n",
    "pca = PCA(0.99)\n",
    "pca.fit(X)\n",
    "pca.n_components_"
   ]
  },
  {
   "cell_type": "code",
   "execution_count": 9,
   "metadata": {},
   "outputs": [
    {
     "data": {
      "text/plain": [
       "array([0.70181871, 0.1655786 , 0.03917047, 0.0377592 , 0.02519704,\n",
       "       0.00973071, 0.0063977 , 0.00349433, 0.00273778])"
      ]
     },
     "execution_count": 9,
     "metadata": {},
     "output_type": "execute_result"
    }
   ],
   "source": [
    "# Implementing Principal Component to further reduce the dimensionality of the new sensor data to 9 principal components while \n",
    "# retaining 99% of the information (explained variance = 99%)\n",
    "pca = PCA(n_components=9)\n",
    "principalComponents = pca.fit_transform(X)\n",
    "pca.explained_variance_ratio_"
   ]
  },
  {
   "cell_type": "code",
   "execution_count": 10,
   "metadata": {},
   "outputs": [
    {
     "data": {
      "text/html": [
       "<div>\n",
       "<style scoped>\n",
       "    .dataframe tbody tr th:only-of-type {\n",
       "        vertical-align: middle;\n",
       "    }\n",
       "\n",
       "    .dataframe tbody tr th {\n",
       "        vertical-align: top;\n",
       "    }\n",
       "\n",
       "    .dataframe thead th {\n",
       "        text-align: right;\n",
       "    }\n",
       "</style>\n",
       "<table border=\"1\" class=\"dataframe\">\n",
       "  <thead>\n",
       "    <tr style=\"text-align: right;\">\n",
       "      <th></th>\n",
       "      <th>0</th>\n",
       "      <th>1</th>\n",
       "      <th>2</th>\n",
       "      <th>3</th>\n",
       "      <th>4</th>\n",
       "      <th>5</th>\n",
       "      <th>6</th>\n",
       "      <th>7</th>\n",
       "      <th>8</th>\n",
       "      <th>Cooler_Condition</th>\n",
       "    </tr>\n",
       "  </thead>\n",
       "  <tbody>\n",
       "    <tr>\n",
       "      <th>0</th>\n",
       "      <td>-7.938924</td>\n",
       "      <td>-0.186228</td>\n",
       "      <td>-2.470273</td>\n",
       "      <td>1.684633</td>\n",
       "      <td>3.438985</td>\n",
       "      <td>-0.963647</td>\n",
       "      <td>0.823423</td>\n",
       "      <td>0.804753</td>\n",
       "      <td>0.555520</td>\n",
       "      <td>3</td>\n",
       "    </tr>\n",
       "    <tr>\n",
       "      <th>1</th>\n",
       "      <td>-5.068223</td>\n",
       "      <td>-1.477608</td>\n",
       "      <td>-1.610854</td>\n",
       "      <td>1.577029</td>\n",
       "      <td>4.261067</td>\n",
       "      <td>-5.559351</td>\n",
       "      <td>3.207626</td>\n",
       "      <td>0.864570</td>\n",
       "      <td>1.509025</td>\n",
       "      <td>3</td>\n",
       "    </tr>\n",
       "    <tr>\n",
       "      <th>2</th>\n",
       "      <td>-3.657813</td>\n",
       "      <td>-2.015192</td>\n",
       "      <td>-1.507725</td>\n",
       "      <td>1.524001</td>\n",
       "      <td>4.188235</td>\n",
       "      <td>-6.378478</td>\n",
       "      <td>3.745780</td>\n",
       "      <td>1.134996</td>\n",
       "      <td>1.556150</td>\n",
       "      <td>3</td>\n",
       "    </tr>\n",
       "    <tr>\n",
       "      <th>3</th>\n",
       "      <td>-2.718730</td>\n",
       "      <td>-2.354421</td>\n",
       "      <td>-1.534780</td>\n",
       "      <td>1.605465</td>\n",
       "      <td>3.939737</td>\n",
       "      <td>-6.652133</td>\n",
       "      <td>3.892295</td>\n",
       "      <td>0.681387</td>\n",
       "      <td>1.498700</td>\n",
       "      <td>3</td>\n",
       "    </tr>\n",
       "    <tr>\n",
       "      <th>4</th>\n",
       "      <td>-1.881476</td>\n",
       "      <td>-2.333541</td>\n",
       "      <td>-0.874969</td>\n",
       "      <td>1.180136</td>\n",
       "      <td>3.820025</td>\n",
       "      <td>-6.412851</td>\n",
       "      <td>3.598980</td>\n",
       "      <td>0.665366</td>\n",
       "      <td>1.435611</td>\n",
       "      <td>3</td>\n",
       "    </tr>\n",
       "  </tbody>\n",
       "</table>\n",
       "</div>"
      ],
      "text/plain": [
       "          0         1         2         3         4         5         6  \\\n",
       "0 -7.938924 -0.186228 -2.470273  1.684633  3.438985 -0.963647  0.823423   \n",
       "1 -5.068223 -1.477608 -1.610854  1.577029  4.261067 -5.559351  3.207626   \n",
       "2 -3.657813 -2.015192 -1.507725  1.524001  4.188235 -6.378478  3.745780   \n",
       "3 -2.718730 -2.354421 -1.534780  1.605465  3.939737 -6.652133  3.892295   \n",
       "4 -1.881476 -2.333541 -0.874969  1.180136  3.820025 -6.412851  3.598980   \n",
       "\n",
       "          7         8  Cooler_Condition  \n",
       "0  0.804753  0.555520                 3  \n",
       "1  0.864570  1.509025                 3  \n",
       "2  1.134996  1.556150                 3  \n",
       "3  0.681387  1.498700                 3  \n",
       "4  0.665366  1.435611                 3  "
      ]
     },
     "execution_count": 10,
     "metadata": {},
     "output_type": "execute_result"
    }
   ],
   "source": [
    "# Generating a final dataset of all the 9 principal components along with the Target variable\n",
    "principalDf = pd.DataFrame(data = principalComponents)\n",
    "PCA_target = [principalDf, Target]\n",
    "PCADf = pd.concat(PCA_target, axis=1)\n",
    "PCADf.head()"
   ]
  },
  {
   "cell_type": "code",
   "execution_count": 16,
   "metadata": {},
   "outputs": [],
   "source": [
    "# Seperating out the data (principal components) from the target variable (Cooling Condition)\n",
    "array = PCADf.values\n",
    "X = array[:,0:9]\n",
    "Y = array[:,9]"
   ]
  },
  {
   "cell_type": "code",
   "execution_count": 12,
   "metadata": {},
   "outputs": [
    {
     "name": "stdout",
     "output_type": "stream",
     "text": [
      "LDA: 0.995475 (0.012142)\n",
      "KNN: 0.979636 (0.045440)\n",
      "SVM: 0.985950 (0.028814)\n"
     ]
    }
   ],
   "source": [
    "# Classification Algorithms\n",
    "seed = 7\n",
    "models = []\n",
    "models.append(('LDA', LinearDiscriminantAnalysis()))\n",
    "models.append(('KNN', KNeighborsClassifier()))\n",
    "models.append(('SVM', SVC()))\n",
    "# evaluate each model in turn\n",
    "results = []\n",
    "names = []\n",
    "scoring = 'accuracy'\n",
    "for name, model in models:\n",
    "    kfold = model_selection.KFold(n_splits=10, random_state=seed)\n",
    "    cv_results = model_selection.cross_val_score(model, X, Y, cv=kfold, scoring=scoring)\n",
    "    results.append(cv_results)\n",
    "    names.append(name)\n",
    "    msg = \"%s: %f (%f)\" % (name, cv_results.mean(), cv_results.std())\n",
    "    print(msg)"
   ]
  },
  {
   "cell_type": "code",
   "execution_count": 13,
   "metadata": {},
   "outputs": [
    {
     "data": {
      "image/png": "[encoded data removed]",
      "text/plain": [
       "<Figure size 432x288 with 1 Axes>"
      ]
     },
     "metadata": {},
     "output_type": "display_data"
    }
   ],
   "source": [
    "# Classification ALgorithm Comparison using Boxplots\n",
    "fig = plt.figure()\n",
    "fig.suptitle('Algorithm Comparison')\n",
    "ax = fig.add_subplot(111)\n",
    "plt.boxplot(results)\n",
    "ax.set_xticklabels(names)\n",
    "plt.show()"
   ]
  },
  {
   "cell_type": "code",
   "execution_count": 17,
   "metadata": {},
   "outputs": [],
   "source": [
    "kf = KFold(n_splits=10)\n",
    "for train, test in kf.split(X):\n",
    "    X_train, X_test, Y_train, Y_test = X[train], X[test], Y[train], Y[test]"
   ]
  },
  {
   "cell_type": "code",
   "execution_count": 18,
   "metadata": {},
   "outputs": [
    {
     "name": "stdout",
     "output_type": "stream",
     "text": [
      "[[220]]\n",
      "             precision    recall  f1-score   support\n",
      "\n",
      "      100.0       1.00      1.00      1.00       220\n",
      "\n",
      "avg / total       1.00      1.00      1.00       220\n",
      "\n",
      "1.0\n"
     ]
    }
   ],
   "source": [
    "lda = LinearDiscriminantAnalysis()\n",
    "lda.fit(X_train, Y_train) \n",
    "Y_pred = lda.predict(X_test)  \n",
    "print(confusion_matrix(Y_test,Y_pred))  \n",
    "print(classification_report(Y_test,Y_pred))\n",
    "print(accuracy_score(Y_test, Y_pred))"
   ]
  },
  {
   "cell_type": "code",
   "execution_count": 20,
   "metadata": {},
   "outputs": [
    {
     "name": "stdout",
     "output_type": "stream",
     "text": [
      "[[220]]\n",
      "             precision    recall  f1-score   support\n",
      "\n",
      "      100.0       1.00      1.00      1.00       220\n",
      "\n",
      "avg / total       1.00      1.00      1.00       220\n",
      "\n",
      "1.0\n"
     ]
    }
   ],
   "source": [
    "knn = KNeighborsClassifier()\n",
    "knn.fit(X_train, Y_train)\n",
    "Y_pred = knn.predict(X_test)\n",
    "print(confusion_matrix(Y_test, Y_pred))\n",
    "print(classification_report(Y_test, Y_pred))\n",
    "print(accuracy_score(Y_test, Y_pred))"
   ]
  },
  {
   "cell_type": "code",
   "execution_count": 22,
   "metadata": {},
   "outputs": [
    {
     "name": "stdout",
     "output_type": "stream",
     "text": [
      "[[220]]\n",
      "             precision    recall  f1-score   support\n",
      "\n",
      "      100.0       1.00      1.00      1.00       220\n",
      "\n",
      "avg / total       1.00      1.00      1.00       220\n",
      "\n",
      "1.0\n"
     ]
    }
   ],
   "source": [
    "svm = SVC(kernel = 'linear')\n",
    "svm.fit(X_train, Y_train)\n",
    "Y_pred = svm.predict(X_test)\n",
    "print(confusion_matrix(Y_test, Y_pred))\n",
    "print(classification_report(Y_test, Y_pred))\n",
    "print(accuracy_score(Y_test, Y_pred))"
   ]
  },
  {
   "cell_type": "code",
   "execution_count": null,
   "metadata": {},
   "outputs": [],
   "source": []
  }
 ],
 "metadata": {
  "kernelspec": {
   "display_name": "Python 3",
   "language": "python",
   "name": "python3"
  },
  "language_info": {
   "codemirror_mode": {
    "name": "ipython",
    "version": 3
   },
   "file_extension": ".py",
   "mimetype": "text/x-python",
   "name": "python",
   "nbconvert_exporter": "python",
   "pygments_lexer": "ipython3",
   "version": "3.6.5"
  }
 },
 "nbformat": 4,
 "nbformat_minor": 2
}
